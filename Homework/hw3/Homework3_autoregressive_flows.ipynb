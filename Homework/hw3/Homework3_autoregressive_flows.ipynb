{
  "nbformat": 4,
  "nbformat_minor": 0,
  "metadata": {
    "colab": {
      "name": "Homework3_autoregressive_flows.ipynb",
      "provenance": [],
      "collapsed_sections": []
    },
    "kernelspec": {
      "name": "python3",
      "display_name": "Python 3"
    },
    "accelerator": "GPU"
  },
  "cells": [
    {
      "cell_type": "code",
      "metadata": {
        "id": "wUVy2glDtoaR",
        "colab": {
          "base_uri": "https://localhost:8080/"
        },
        "outputId": "88dd6be6-aca2-485f-ae2c-bf4bd8f10514"
      },
      "source": [
        "!if [ -d dul_2021 ]; then rm -Rf dul_2021; fi\n",
        "!git clone --single-branch https://github.com/GrigoryBartosh/dul_2021\n",
        "!pip install ./dul_2021"
      ],
      "execution_count": 1,
      "outputs": [
        {
          "output_type": "stream",
          "name": "stdout",
          "text": [
            "Cloning into 'dul_2021'...\n",
            "remote: Enumerating objects: 180, done.\u001b[K\n",
            "remote: Counting objects: 100% (180/180), done.\u001b[K\n",
            "remote: Compressing objects: 100% (119/119), done.\u001b[K\n",
            "remote: Total 180 (delta 80), reused 130 (delta 43), pack-reused 0\u001b[K\n",
            "Receiving objects: 100% (180/180), 28.69 MiB | 3.26 MiB/s, done.\n",
            "Resolving deltas: 100% (80/80), done.\n",
            "Processing ./dul_2021\n",
            "\u001b[33m  DEPRECATION: A future pip version will change local packages to be built in-place without first copying to a temporary directory. We recommend you use --use-feature=in-tree-build to test your packages with this new behavior before it becomes the default.\n",
            "   pip 21.3 will remove support for this functionality. You can find discussion regarding this at https://github.com/pypa/pip/issues/7555.\u001b[0m\n",
            "Building wheels for collected packages: dul-2021\n",
            "  Building wheel for dul-2021 (setup.py) ... \u001b[?25l\u001b[?25hdone\n",
            "  Created wheel for dul-2021: filename=dul_2021-0.1.0-py3-none-any.whl size=15097 sha256=21ab052530ebf5ca4bd2ebd0272a19e231927fd5f5060a605e6d0e7611f0c531\n",
            "  Stored in directory: /tmp/pip-ephem-wheel-cache-71yyhyvp/wheels/55/59/29/0fb1c635652157734f4d741f32fc11979149684e83e919de06\n",
            "Successfully built dul-2021\n",
            "Installing collected packages: dul-2021\n",
            "Successfully installed dul-2021-0.1.0\n"
          ]
        }
      ]
    },
    {
      "cell_type": "code",
      "metadata": {
        "id": "ZHWosWrbpO5Y"
      },
      "source": [
        "from dul_2021.utils.hw3_utils import *"
      ],
      "execution_count": 2,
      "outputs": []
    },
    {
      "cell_type": "markdown",
      "metadata": {
        "id": "bk6l6G30tEIg"
      },
      "source": [
        "\n",
        "# Question 1: Autoregressive Flows for Images\n",
        "\n",
        "Adapt your PixelCNN implementation from Homework 2 and use it as an autoregressive flow model on the black-and-white shapes dataset. Using the base architecture from Homework 2 1(a), output a mixture of logistics or gaussians (instead of logits), whose CDF we will use as our flow for each dimension of x. \n",
        "\n",
        "Remember: you must dequantize the data and scale it between 0 and 1 for the autoregressive flow to have stable training. \n",
        "\n",
        "**You will provide these deliverables**\n",
        "\n",
        "1.   Over the course of training, record the average negative log-likelihood (nats / dim) of the training data (per minibatch) and test data (for your entire test set). Code is provided that automatically plots the training curves. **Make sure to account for any rescaling you do in your nats/dim.**\n",
        "2.   Report the final test set performance of your final model\n",
        "3. 100 samples from your autoregressive flow. Our plotting code will show your samples, with and without clipping and flooring (to remove the quantization). \n"
      ]
    },
    {
      "cell_type": "code",
      "metadata": {
        "id": "alF9C1t-tEys",
        "colab": {
          "base_uri": "https://localhost:8080/",
          "height": 264
        },
        "outputId": "fddb7b5f-3424-4d6c-f2c3-d4a04704b617"
      },
      "source": [
        "visualize_q1_data()"
      ],
      "execution_count": 3,
      "outputs": [
        {
          "output_type": "display_data",
          "data": {
            "image/png": "[encoded data removed]",
            "text/plain": [
              "<Figure size 432x288 with 1 Axes>"
            ]
          },
          "metadata": {
            "needs_background": "light"
          }
        }
      ]
    },
    {
      "cell_type": "markdown",
      "metadata": {
        "id": "fHHxHqSJTSAa"
      },
      "source": [
        "### Solution\n",
        "Fill out the function below and return the necessary arguments. Feel free to create more cells if need be."
      ]
    },
    {
      "cell_type": "code",
      "metadata": {
        "id": "N18zfjkU_deS"
      },
      "source": [
        "from torch import nn\n",
        "from torch.utils import data\n",
        "from torch import optim as opt\n",
        "from tqdm import tqdm\n",
        "import torch\n",
        "from torch.distributions.uniform import Uniform\n",
        "from torch.distributions.normal import Normal\n",
        "from torch.distributions.beta import Beta\n",
        "from torch.utils.data import Dataset, DataLoader\n",
        "from tqdm import trange, tqdm"
      ],
      "execution_count": 4,
      "outputs": []
    },
    {
      "cell_type": "code",
      "metadata": {
        "id": "_2dpztUe_fys",
        "colab": {
          "base_uri": "https://localhost:8080/"
        },
        "outputId": "6f8a0bd3-fa1a-4112-c7df-a710284c997c"
      },
      "source": [
        "device = torch.device(\"cuda\" if torch.cuda.is_available() else \"cpu\")\n",
        "device"
      ],
      "execution_count": 5,
      "outputs": [
        {
          "output_type": "execute_result",
          "data": {
            "text/plain": [
              "device(type='cuda')"
            ]
          },
          "metadata": {},
          "execution_count": 5
        }
      ]
    },
    {
      "cell_type": "code",
      "metadata": {
        "id": "pf2CFdNH_hdE"
      },
      "source": [
        "class MaskedConv(nn.Conv2d):\n",
        "    def __init__(self, *args, **kwargs):\n",
        "        super().__init__(*args, **kwargs)\n",
        "        self.register_buffer(\"mask\", torch.zeros_like(self.weight))\n",
        "        self.set_mask()\n",
        "    \n",
        "    def forward(self, x):\n",
        "        return F.conv2d(x, self.mask * self.weight, bias=self.bias, \n",
        "                        stride=self.stride, padding=self.padding)\n",
        "\n",
        "    def set_mask(self):\n",
        "        raise NotImplementedError()"
      ],
      "execution_count": 6,
      "outputs": []
    },
    {
      "cell_type": "code",
      "metadata": {
        "id": "8MWX-ZL4_lJs"
      },
      "source": [
        "class ConvA(MaskedConv):\n",
        "    def set_mask(self):\n",
        "        h, w = self.kernel_size\n",
        "        self.mask[:, :, h // 2, : w // 2] = 1\n",
        "        self.mask[:, :, :h // 2] = 1\n",
        "    \n",
        "class ConvB(MaskedConv):\n",
        "    def set_mask(self):\n",
        "        h, w = self.kernel_size\n",
        "        self.mask[:, :, h // 2, : w // 2 + 1] = 1\n",
        "        self.mask[:, :, :h // 2] = 1"
      ],
      "execution_count": 7,
      "outputs": []
    },
    {
      "cell_type": "code",
      "metadata": {
        "id": "Un-po2i5_l30"
      },
      "source": [
        "class LayerNorm(nn.LayerNorm):\n",
        "    def __init__(self, *args, **kwargs):\n",
        "        super().__init__(*args, **kwargs)\n",
        "\n",
        "    def forward(self, x):\n",
        "        x = x.permute(0, 2, 3, 1).contiguous()\n",
        "        x = super().forward(x)\n",
        "        return x.permute(0, 3, 1, 2).contiguous()"
      ],
      "execution_count": 8,
      "outputs": []
    },
    {
      "cell_type": "code",
      "metadata": {
        "id": "LGll5eZz_okx"
      },
      "source": [
        "class Residual(nn.Module):\n",
        "    def __init__(self, in_channels, **kwargs):\n",
        "        super().__init__()\n",
        "        self.model = nn.Sequential(\n",
        "            ConvB(in_channels, in_channels // 2, 1, **kwargs), \n",
        "            nn.ReLU(), \n",
        "            ConvB(in_channels // 2, in_channels // 2, 7, padding=3, **kwargs), \n",
        "            nn.ReLU(), \n",
        "            ConvB(in_channels // 2, in_channels, 1, **kwargs),\n",
        "            nn.ReLU()\n",
        "        )\n",
        "        \n",
        "    def forward(self, x):\n",
        "        out = self.model(x)\n",
        "        return out + x"
      ],
      "execution_count": 9,
      "outputs": []
    },
    {
      "cell_type": "code",
      "metadata": {
        "id": "92cev38-_qFL"
      },
      "source": [
        "def collate_fn(x): \n",
        "    x = np.array(x).transpose(0, 3, 1, 2)\n",
        "    x = torch.tensor(x, dtype=torch.long)\n",
        "\n",
        "    return x "
      ],
      "execution_count": 10,
      "outputs": []
    },
    {
      "cell_type": "code",
      "metadata": {
        "id": "PBFbkLVp_vrg"
      },
      "source": [
        "class FlowPixelCNN(nn.Module):\n",
        "    def __init__(self, \n",
        "                 input_shape, \n",
        "                 n_colors=10,\n",
        "                 n_filters=120, \n",
        "                 kernel_size=7, \n",
        "                 base_dist='uniform'):\n",
        "        \n",
        "        super().__init__()\n",
        "        self.input_shape = input_shape\n",
        "        self.n_colors = n_colors\n",
        "        self.n_filters = n_filters\n",
        "        self.kernel_size = kernel_size\n",
        "        self.model = nn.Sequential(*self.get_model())\n",
        "\n",
        "        if base_dist=='uniform':\n",
        "            self.bdist = Uniform(torch.Tensor([0]).to(device), torch.Tensor([1]).to(device))\n",
        "        elif base_dist == 'beta':\n",
        "            self.bdist = Beta(torch.Tensor([2]).to(device), torch.Tensor([2]).to(device))\n",
        "\n",
        "    def get_model(self): \n",
        "        C, H, W = self.input_shape\n",
        "        model = [ConvA(C, self.n_filters, self.kernel_size, padding=self.kernel_size // 2), \n",
        "                 LayerNorm(self.n_filters), \n",
        "                 nn.ReLU()]\n",
        "\n",
        "        for _ in range(8): \n",
        "            model.extend([Residual(self.n_filters), LayerNorm(self.n_filters), nn.ReLU()])\n",
        "\n",
        "        model.extend([ConvB(self.n_filters, self.n_filters, 1), \n",
        "                      nn.ReLU(), \n",
        "                      ConvB(self.n_filters, C * 3 * self.n_colors, 1)])\n",
        "        \n",
        "        return model\n",
        "    \n",
        "    def forward(self, x):\n",
        "        out = self.model(x)\n",
        "        return out.view(x.shape[0], 3 * self.n_colors, *self.input_shape)\n",
        "\n",
        "    def test(self, test_loader):\n",
        "        self.eval()\n",
        "        total_loss = 0\n",
        "        tc = 0\n",
        "        with torch.no_grad():\n",
        "            for batch in test_loader:\n",
        "                batch = batch.to(device).float()\n",
        "                loss = self.nll(batch)\n",
        "                total_loss += loss * batch.shape[0]\n",
        "                tc += batch.shape[0]\n",
        "        return total_loss.item() / tc\n",
        "\n",
        "    def fit(self, train_data, test_data, num_epochs=20, \n",
        "            lr=1e-3, batch_size=128):\n",
        "        train_loader = data.DataLoader(train_data, batch_size=batch_size, shuffle=True, collate_fn=collate_fn)\n",
        "        test_loader = data.DataLoader(test_data, batch_size=batch_size, collate_fn=collate_fn)\n",
        "\n",
        "        optim = opt.Adam(self.parameters(), lr=lr)\n",
        "\n",
        "        train_losses = []\n",
        "        test_losses = []\n",
        "\n",
        "        test_losses.append(self.test(test_loader))\n",
        "\n",
        "        for epoch in tqdm(range(num_epochs), \"Train epoch\"):\n",
        "            self.train()\n",
        "            for batch in train_loader:\n",
        "                batch = batch.to(device).float()\n",
        "                loss = self.nll(batch)\n",
        "                optim.zero_grad()\n",
        "                loss.backward()\n",
        "                torch.nn.utils.clip_grad_norm_(self.parameters(), 1)\n",
        "                optim.step()\n",
        "\n",
        "                train_losses.append(loss.item())\n",
        "            test_losses.append(self.test(test_loader))\n",
        "\n",
        "        return train_losses, test_losses\n",
        "\n",
        "    def flow(self, x):\n",
        "        mu, log_s, log_w = torch.chunk(self(x), 3, dim=1)\n",
        "\n",
        "        w = F.softmax(log_w, dim=1)\n",
        "\n",
        "        dist = Normal(mu, log_s.exp())\n",
        "\n",
        "        xr  = x.unsqueeze(1).repeat(1, self.n_colors, 1, 1, 1)\n",
        "        \n",
        "        z = (dist.cdf(xr) * w).sum(dim=1)\n",
        "\n",
        "        log_det = (dist.log_prob(xr).exp() * w).sum(dim=1).log()\n",
        "\n",
        "        return z, log_det\n",
        "\n",
        "\n",
        "    def inverse(self, z):\n",
        "        raise NotImplementedError()\n",
        "\n",
        "    def pixel_inverse_flow(self, w, mu, log_s):\n",
        "        batch_size = w.shape[0]\n",
        "        z = self.bdist.sample((batch_size,))\n",
        "\n",
        "        pixel_values = []\n",
        "        for i in range(batch_size):\n",
        "            dist = Normal(mu[i], log_s[i].exp())\n",
        "            def f(x):\n",
        "                x = torch.FloatTensor(np.repeat(x, self.n_colors)).to(device)\n",
        "                return w[i].dot(dist.cdf(x)) - z[i]\n",
        "            \n",
        "            pixel_values.append(bisect(f, -20, 20))\n",
        "        \n",
        "        return torch.FloatTensor(pixel_values).to(device)\n",
        "\n",
        "    def sample(self, n=100):\n",
        "        with torch.no_grad():\n",
        "            c, h, w = self.input_shape\n",
        "            samples = torch.zeros((n, c, h, w), device=device)\n",
        "            for y in trange(h, desc=\"Sampling\"):\n",
        "                for x in range(w):\n",
        "                    for i in range(c):\n",
        "                        w, mu, log_s = torch.chunk(self(samples)[:, :, i, y, x], 3, dim=1)\n",
        "                        w = F.softmax(w, dim=1)\n",
        "                        samples[:, i, y, x] = self.pixel_inverse_flow(w, mu, log_s)\n",
        "\n",
        "        return torch.clip(samples, 0, 1).permute(0, 2, 3, 1).cpu().numpy()\n",
        "\n",
        "    def log_prob(self, x):\n",
        "        z, log_det = self.flow(x)\n",
        "        log_prob = self.bdist.log_prob(z)\n",
        "        return log_prob + log_det\n",
        "\n",
        "    def nll(self, x):\n",
        "        return -self.log_prob(x).mean()\n",
        "\n"
      ],
      "execution_count": 20,
      "outputs": []
    },
    {
      "cell_type": "code",
      "metadata": {
        "id": "wtFZU2ymB6_t"
      },
      "source": [
        "def q1(train_data, test_data):\n",
        "  \"\"\"\n",
        "  train_data: A (n_train, H, W, 1) uint8 numpy array of binary images with values in {0, 1}\n",
        "  test_data: A (n_test, H, W, 1) uint8 numpy array of binary images with values in {0, 1}\n",
        "  H = W = 20\n",
        "  Note that you should dequantize your train and test data, your dequantized pixels should all lie in [0,1]\n",
        "\n",
        "  Returns\n",
        "  - a (# of training iterations,) numpy array of train_losses evaluated every minibatch\n",
        "  - a (# of epochs + 1,) numpy array of test_losses evaluated once at initialization and after each epoch\n",
        "  - a numpy array of size (100, H, W, 1) of samples with values in [0, 1], where [0,0.5] represents a black pixel\n",
        "      and [0.5,1] represents a white pixel. We will show your samples with and without noise. \n",
        "  \"\"\"\n",
        "  \n",
        "  \"\"\" YOUR CODE HERE \"\"\"\n",
        "\n",
        "  batch_size = 128\n",
        "  \n",
        "  _, h, w, c = train_data.shape\n",
        "  image_new_shape = (c, h, w)\n",
        "\n",
        "  model = FlowPixelCNN(image_new_shape, n_colors=10).to(device)\n",
        "\n",
        "  train_losses, test_losses = model.fit(train_data, test_data, num_epochs=20, \n",
        "            lr=1e-3, batch_size=batch_size)\n",
        "  \n",
        "  return train_losses, test_losses, model.sample()"
      ],
      "execution_count": 21,
      "outputs": []
    },
    {
      "cell_type": "markdown",
      "metadata": {
        "id": "Iso12bj4Tup8"
      },
      "source": [
        "### Results\n",
        "\n",
        "Once you've implemented `q1`, execute the cells below to visualize and save your results\n",
        "\n"
      ]
    },
    {
      "cell_type": "code",
      "metadata": {
        "id": "njfGrZ74Jm2d",
        "colab": {
          "base_uri": "https://localhost:8080/",
          "height": 345
        },
        "outputId": "2e954fdf-f0c1-4bea-c27a-4898219e632b"
      },
      "source": [
        "q1_save_results(q1)"
      ],
      "execution_count": 22,
      "outputs": [
        {
          "output_type": "stream",
          "name": "stderr",
          "text": [
            "Train epoch: 100%|██████████| 20/20 [16:29<00:00, 49.45s/it]\n",
            "Sampling:   0%|          | 0/20 [00:00<?, ?it/s]\n"
          ]
        },
        {
          "output_type": "error",
          "ename": "NameError",
          "evalue": "ignored",
          "traceback": [
            "\u001b[0;31m---------------------------------------------------------------------------\u001b[0m",
            "\u001b[0;31mNameError\u001b[0m                                 Traceback (most recent call last)",
            "\u001b[0;32m<ipython-input-22-44bed878a411>\u001b[0m in \u001b[0;36m<module>\u001b[0;34m()\u001b[0m\n\u001b[0;32m----> 1\u001b[0;31m \u001b[0mq1_save_results\u001b[0m\u001b[0;34m(\u001b[0m\u001b[0mq1\u001b[0m\u001b[0;34m)\u001b[0m\u001b[0;34m\u001b[0m\u001b[0;34m\u001b[0m\u001b[0m\n\u001b[0m",
            "\u001b[0;32m/content/dul_2021/utils/hw3_utils.py\u001b[0m in \u001b[0;36mq1_save_results\u001b[0;34m(fn)\u001b[0m\n\u001b[1;32m     28\u001b[0m     \u001b[0mtrain_data\u001b[0m\u001b[0;34m,\u001b[0m \u001b[0mtest_data\u001b[0m \u001b[0;34m=\u001b[0m \u001b[0mload_pickled_data\u001b[0m\u001b[0;34m(\u001b[0m\u001b[0mjoin\u001b[0m\u001b[0;34m(\u001b[0m\u001b[0mdata_dir\u001b[0m\u001b[0;34m,\u001b[0m \u001b[0;34m'shapes.pkl'\u001b[0m\u001b[0;34m)\u001b[0m\u001b[0;34m)\u001b[0m\u001b[0;34m\u001b[0m\u001b[0;34m\u001b[0m\u001b[0m\n\u001b[1;32m     29\u001b[0m \u001b[0;34m\u001b[0m\u001b[0m\n\u001b[0;32m---> 30\u001b[0;31m     \u001b[0mtrain_losses\u001b[0m\u001b[0;34m,\u001b[0m \u001b[0mtest_losses\u001b[0m\u001b[0;34m,\u001b[0m \u001b[0msamples\u001b[0m \u001b[0;34m=\u001b[0m \u001b[0mfn\u001b[0m\u001b[0;34m(\u001b[0m\u001b[0mtrain_data\u001b[0m\u001b[0;34m,\u001b[0m \u001b[0mtest_data\u001b[0m\u001b[0;34m)\u001b[0m\u001b[0;34m\u001b[0m\u001b[0;34m\u001b[0m\u001b[0m\n\u001b[0m\u001b[1;32m     31\u001b[0m     \u001b[0msamples\u001b[0m \u001b[0;34m=\u001b[0m \u001b[0mnp\u001b[0m\u001b[0;34m.\u001b[0m\u001b[0mclip\u001b[0m\u001b[0;34m(\u001b[0m\u001b[0msamples\u001b[0m\u001b[0;34m.\u001b[0m\u001b[0mastype\u001b[0m\u001b[0;34m(\u001b[0m\u001b[0;34m'float'\u001b[0m\u001b[0;34m)\u001b[0m \u001b[0;34m*\u001b[0m \u001b[0;36m2.0\u001b[0m\u001b[0;34m,\u001b[0m \u001b[0;36m0\u001b[0m\u001b[0;34m,\u001b[0m \u001b[0;36m1.9999\u001b[0m\u001b[0;34m)\u001b[0m\u001b[0;34m\u001b[0m\u001b[0;34m\u001b[0m\u001b[0m\n\u001b[1;32m     32\u001b[0m     \u001b[0mfloored_samples\u001b[0m \u001b[0;34m=\u001b[0m \u001b[0mnp\u001b[0m\u001b[0;34m.\u001b[0m\u001b[0mfloor\u001b[0m\u001b[0;34m(\u001b[0m\u001b[0msamples\u001b[0m\u001b[0;34m)\u001b[0m\u001b[0;34m\u001b[0m\u001b[0;34m\u001b[0m\u001b[0m\n",
            "\u001b[0;32m<ipython-input-21-60af09223a57>\u001b[0m in \u001b[0;36mq1\u001b[0;34m(train_data, test_data)\u001b[0m\n\u001b[1;32m     25\u001b[0m             lr=1e-3, batch_size=batch_size)\n\u001b[1;32m     26\u001b[0m \u001b[0;34m\u001b[0m\u001b[0m\n\u001b[0;32m---> 27\u001b[0;31m   \u001b[0;32mreturn\u001b[0m \u001b[0mtrain_losses\u001b[0m\u001b[0;34m,\u001b[0m \u001b[0mtest_losses\u001b[0m\u001b[0;34m,\u001b[0m \u001b[0mmodel\u001b[0m\u001b[0;34m.\u001b[0m\u001b[0msample\u001b[0m\u001b[0;34m(\u001b[0m\u001b[0;34m)\u001b[0m\u001b[0;34m\u001b[0m\u001b[0;34m\u001b[0m\u001b[0m\n\u001b[0m",
            "\u001b[0;32m<ipython-input-20-9b027ba0124d>\u001b[0m in \u001b[0;36msample\u001b[0;34m(self, n)\u001b[0m\n\u001b[1;32m    120\u001b[0m                         \u001b[0mw\u001b[0m\u001b[0;34m,\u001b[0m \u001b[0mmu\u001b[0m\u001b[0;34m,\u001b[0m \u001b[0mlog_s\u001b[0m \u001b[0;34m=\u001b[0m \u001b[0mtorch\u001b[0m\u001b[0;34m.\u001b[0m\u001b[0mchunk\u001b[0m\u001b[0;34m(\u001b[0m\u001b[0mself\u001b[0m\u001b[0;34m(\u001b[0m\u001b[0msamples\u001b[0m\u001b[0;34m)\u001b[0m\u001b[0;34m[\u001b[0m\u001b[0;34m:\u001b[0m\u001b[0;34m,\u001b[0m \u001b[0;34m:\u001b[0m\u001b[0;34m,\u001b[0m \u001b[0mi\u001b[0m\u001b[0;34m,\u001b[0m \u001b[0my\u001b[0m\u001b[0;34m,\u001b[0m \u001b[0mx\u001b[0m\u001b[0;34m]\u001b[0m\u001b[0;34m,\u001b[0m \u001b[0;36m3\u001b[0m\u001b[0;34m,\u001b[0m \u001b[0mdim\u001b[0m\u001b[0;34m=\u001b[0m\u001b[0;36m1\u001b[0m\u001b[0;34m)\u001b[0m\u001b[0;34m\u001b[0m\u001b[0;34m\u001b[0m\u001b[0m\n\u001b[1;32m    121\u001b[0m                         \u001b[0mw\u001b[0m \u001b[0;34m=\u001b[0m \u001b[0mF\u001b[0m\u001b[0;34m.\u001b[0m\u001b[0msoftmax\u001b[0m\u001b[0;34m(\u001b[0m\u001b[0mw\u001b[0m\u001b[0;34m,\u001b[0m \u001b[0mdim\u001b[0m\u001b[0;34m=\u001b[0m\u001b[0;36m1\u001b[0m\u001b[0;34m)\u001b[0m\u001b[0;34m\u001b[0m\u001b[0;34m\u001b[0m\u001b[0m\n\u001b[0;32m--> 122\u001b[0;31m                         \u001b[0msamples\u001b[0m\u001b[0;34m[\u001b[0m\u001b[0;34m:\u001b[0m\u001b[0;34m,\u001b[0m \u001b[0mi\u001b[0m\u001b[0;34m,\u001b[0m \u001b[0my\u001b[0m\u001b[0;34m,\u001b[0m \u001b[0mx\u001b[0m\u001b[0;34m]\u001b[0m \u001b[0;34m=\u001b[0m \u001b[0mself\u001b[0m\u001b[0;34m.\u001b[0m\u001b[0mpixel_inverse_flow\u001b[0m\u001b[0;34m(\u001b[0m\u001b[0mw\u001b[0m\u001b[0;34m,\u001b[0m \u001b[0mmu\u001b[0m\u001b[0;34m,\u001b[0m \u001b[0mlog_s\u001b[0m\u001b[0;34m)\u001b[0m\u001b[0;34m\u001b[0m\u001b[0;34m\u001b[0m\u001b[0m\n\u001b[0m\u001b[1;32m    123\u001b[0m \u001b[0;34m\u001b[0m\u001b[0m\n\u001b[1;32m    124\u001b[0m         \u001b[0;32mreturn\u001b[0m \u001b[0mtorch\u001b[0m\u001b[0;34m.\u001b[0m\u001b[0mclip\u001b[0m\u001b[0;34m(\u001b[0m\u001b[0msamples\u001b[0m\u001b[0;34m,\u001b[0m \u001b[0;36m0\u001b[0m\u001b[0;34m,\u001b[0m \u001b[0;36m1\u001b[0m\u001b[0;34m)\u001b[0m\u001b[0;34m.\u001b[0m\u001b[0mpermute\u001b[0m\u001b[0;34m(\u001b[0m\u001b[0;36m0\u001b[0m\u001b[0;34m,\u001b[0m \u001b[0;36m2\u001b[0m\u001b[0;34m,\u001b[0m \u001b[0;36m3\u001b[0m\u001b[0;34m,\u001b[0m \u001b[0;36m1\u001b[0m\u001b[0;34m)\u001b[0m\u001b[0;34m.\u001b[0m\u001b[0mcpu\u001b[0m\u001b[0;34m(\u001b[0m\u001b[0;34m)\u001b[0m\u001b[0;34m.\u001b[0m\u001b[0mnumpy\u001b[0m\u001b[0;34m(\u001b[0m\u001b[0;34m)\u001b[0m\u001b[0;34m\u001b[0m\u001b[0;34m\u001b[0m\u001b[0m\n",
            "\u001b[0;32m<ipython-input-20-9b027ba0124d>\u001b[0m in \u001b[0;36mpixel_inverse_flow\u001b[0;34m(self, w, mu, log_s)\u001b[0m\n\u001b[1;32m    107\u001b[0m                 \u001b[0;32mreturn\u001b[0m \u001b[0mw\u001b[0m\u001b[0;34m[\u001b[0m\u001b[0mi\u001b[0m\u001b[0;34m]\u001b[0m\u001b[0;34m.\u001b[0m\u001b[0mdot\u001b[0m\u001b[0;34m(\u001b[0m\u001b[0mdist\u001b[0m\u001b[0;34m.\u001b[0m\u001b[0mcdf\u001b[0m\u001b[0;34m(\u001b[0m\u001b[0mx\u001b[0m\u001b[0;34m)\u001b[0m\u001b[0;34m)\u001b[0m \u001b[0;34m-\u001b[0m \u001b[0mz\u001b[0m\u001b[0;34m[\u001b[0m\u001b[0mi\u001b[0m\u001b[0;34m]\u001b[0m\u001b[0;34m\u001b[0m\u001b[0;34m\u001b[0m\u001b[0m\n\u001b[1;32m    108\u001b[0m \u001b[0;34m\u001b[0m\u001b[0m\n\u001b[0;32m--> 109\u001b[0;31m             \u001b[0mpixel_values\u001b[0m\u001b[0;34m.\u001b[0m\u001b[0mappend\u001b[0m\u001b[0;34m(\u001b[0m\u001b[0mbisect\u001b[0m\u001b[0;34m(\u001b[0m\u001b[0mf\u001b[0m\u001b[0;34m,\u001b[0m \u001b[0;34m-\u001b[0m\u001b[0;36m20\u001b[0m\u001b[0;34m,\u001b[0m \u001b[0;36m20\u001b[0m\u001b[0;34m)\u001b[0m\u001b[0;34m)\u001b[0m\u001b[0;34m\u001b[0m\u001b[0;34m\u001b[0m\u001b[0m\n\u001b[0m\u001b[1;32m    110\u001b[0m \u001b[0;34m\u001b[0m\u001b[0m\n\u001b[1;32m    111\u001b[0m         \u001b[0;32mreturn\u001b[0m \u001b[0mtorch\u001b[0m\u001b[0;34m.\u001b[0m\u001b[0mFloatTensor\u001b[0m\u001b[0;34m(\u001b[0m\u001b[0mpixel_values\u001b[0m\u001b[0;34m)\u001b[0m\u001b[0;34m.\u001b[0m\u001b[0mto\u001b[0m\u001b[0;34m(\u001b[0m\u001b[0mdevice\u001b[0m\u001b[0;34m)\u001b[0m\u001b[0;34m\u001b[0m\u001b[0;34m\u001b[0m\u001b[0m\n",
            "\u001b[0;31mNameError\u001b[0m: name 'bisect' is not defined"
          ]
        }
      ]
    },
    {
      "cell_type": "code",
      "metadata": {
        "id": "CEEe2cwU0cPF"
      },
      "source": [
        ""
      ],
      "execution_count": null,
      "outputs": []
    }
  ]
}